{
 "cells": [
  {
   "cell_type": "code",
   "execution_count": null,
   "id": "d251eb9c-1248-471d-83a2-4c3808a6155c",
   "metadata": {},
   "outputs": [],
   "source": [
    "import pandas as pd\n",
    "import numpy as np\n",
    "import datetime as dt\n",
    "import yfinance as yf\n",
    "from pandas_datareader import data as pdr\n",
    "\n",
    "yf.pdr_override()"
   ]
  },
  {
   "cell_type": "code",
   "execution_count": null,
   "id": "4363d3b9-5d6b-4224-a3f6-8cab144f6c95",
   "metadata": {},
   "outputs": [],
   "source": [
    "#Initial data pull to obtain pricing data using the yfinance API\n",
    "class Portfolio:\n",
    "    \n",
    "    #Initializes the object with a list of ticker symbols and the period to pull pricing data from as attributes\n",
    "    def __init__(self, tickers, start_date, end_date):\n",
    "        self.tickers = tickers\n",
    "        self.start_date = start_date\n",
    "        self.end_date = end_date\n",
    "        \n",
    "    #Concatenates the monthly Adjusted Close prices for each ticker to a dataframe\n",
    "    def get_prices(self):\n",
    "        \n",
    "        price_df = pd.DataFrame()\n",
    "    \n",
    "        for ticker in self.tickers:\n",
    "            frame = pdr.get_data_yahoo(ticker, start=self.start_date, end=self.end_date, interval='1mo')\n",
    "            frame = frame.rename(columns={'Adj Close' : f\"{ticker}_adj_close\"})\n",
    "            prices = frame.loc[:,f\"{ticker}_adj_close\"]\n",
    "            price_df = pd.concat([price_df, prices], axis=1)\n",
    "            \n",
    "        return price_df\n",
    "    \n",
    "    #Creates a new dataframe containing the lognormal returns of the pricing data\n",
    "    def get_returns(self):\n",
    "        \n",
    "        returns_df = self.get_prices()\n",
    "        \n",
    "        for column in returns_df.columns:\n",
    "            returns_df[f\"{column.split('_')[0]}_returns\"] = np.log(returns_df[column] / returns_df[column].shift(1))\n",
    "            returns_df = returns_df.drop(column, axis=1)\n",
    "        \n",
    "        return returns_df.dropna()"
   ]
  },
  {
   "cell_type": "code",
   "execution_count": null,
   "id": "9472bef0-1d54-41d7-ba02-9bc7a92d4bbb",
   "metadata": {},
   "outputs": [],
   "source": [
    "from fredapi import Fred\n",
    "from scipy.optimize import minimize"
   ]
  },
  {
   "cell_type": "code",
   "execution_count": null,
   "id": "79a1c74e-987d-40b7-925d-d00985123c95",
   "metadata": {},
   "outputs": [],
   "source": [
    "#Optimizing the portfolio for Sharpe Ratio\n",
    "def optimize(df, tickers):\n",
    "    \n",
    "    #Generating Expected Return and Standard Deviation for sample portfolio\n",
    "    covar_matrix = df.cov()*12\n",
    "    \n",
    "    def std_dev(weights, covar_matrix):\n",
    "        variance = weights.T @ covar_matrix @ weights\n",
    "        return np.sqrt(variance)\n",
    "    \n",
    "    def exp_ret(df, weights):\n",
    "        return np.sum(df.mean()*weights)*12\n",
    "    \n",
    "    #Federal Reserve Bank of St. Louis API to use current 10-Year Treasury as Risk-Free Rate\n",
    "    # fred = Fred(api_key=)\n",
    "    # rf = (fred.get_series_latest_release('GS10') / 100).iloc[-1]\n",
    "    rf = 0.0421\n",
    "    \n",
    "    #Sharpe Ratio computation - ratio of return premium to level of risk\n",
    "    def sharpe(weights, df, covar_matrix, rf):\n",
    "        return -((exp_ret(df, weights) - rf) / std_dev(weights, covar_matrix))\n",
    "    \n",
    "    constraints = {'type':'eq', 'fun' : lambda weights: np.sum(weights) - 1}\n",
    "    #Setting limit on size of each position\n",
    "    bounds = [(0.00, 0.5) for i in range(len(tickers))]\n",
    "    \n",
    "    init_weights = np.array([1/len(tickers)] * len(tickers))\n",
    "    \n",
    "    optimized_results = minimize(sharpe, init_weights, args=(df, covar_matrix, rf), method='SLSQP', constraints=constraints, bounds=bounds)\n",
    "    optimized_weights = optimized_results.x\n",
    "    \n",
    "    return np.round_(optimized_weights, 4)"
   ]
  },
  {
   "cell_type": "code",
   "execution_count": null,
   "id": "4ef53748-e5d0-4818-9708-ea7ec596fe17",
   "metadata": {},
   "outputs": [],
   "source": [
    "test_portfolio = Portfolio(['SPY', 'BND', 'GLD', 'QQQ', 'VTI'], dt.datetime(2020, 1, 1), dt.datetime.today())\n",
    "portfolio_frame = test_portfolio.get_returns()\n",
    "results = optimize(portfolio_frame, test_portfolio.tickers)"
   ]
  },
  {
   "cell_type": "code",
   "execution_count": null,
   "id": "4fa70e45-f3df-49a4-9920-1e437391eaee",
   "metadata": {},
   "outputs": [],
   "source": [
    "#Prior functionality is used to generate an array of weights that will yield the highest Sharpe Ratio\n",
    "#Function below applies the weights array to the portfolio so that the optimized returns are computed\n",
    "def implement_weights(df, weights):\n",
    "    \n",
    "    calculate_returns = lambda row_: np.sum(row_ * weights)\n",
    "    \n",
    "    df['portfolio_returns'] = df.apply(calculate_returns, axis=1)\n",
    "    \n",
    "    return df"
   ]
  },
  {
   "cell_type": "code",
   "execution_count": null,
   "id": "0df15362-9d76-4724-8b91-63e83c5dc66e",
   "metadata": {},
   "outputs": [],
   "source": [
    "opt_portfolio = implement_weights(portfolio_frame, results)"
   ]
  },
  {
   "cell_type": "code",
   "execution_count": null,
   "id": "6e65d768-7cb9-4c6e-923b-7d71757b86e6",
   "metadata": {},
   "outputs": [],
   "source": [
    "#Viewing the expected return, volatility, and Sharpe Ratio of the optimized portfolio\n",
    "def metrics(df):\n",
    "    \n",
    "    # fred = Fred(api_key=)\n",
    "    # rf = (fred.get_series_latest_release('GS10') / 100).iloc[-1]\n",
    "    rf = 0.0421\n",
    "    \n",
    "    er = (df['portfolio_returns'].mean() * 12)\n",
    "    \n",
    "    stdev = np.std(df['portfolio_returns']) * np.sqrt(12)\n",
    "    \n",
    "    sharpe = (er - rf) / stdev\n",
    "    \n",
    "    print(f\"The Expected Return of the portfolio is: {round(er*100, 2)}%\")\n",
    "    print(f\"The Volatility of the portfolio is: {round(stdev*100, 2)}%\")\n",
    "    print(f\"The Sharpe Ratio of the portfolio is: {round(sharpe, 4)}\")"
   ]
  },
  {
   "cell_type": "code",
   "execution_count": null,
   "id": "05e93abb-1a07-4538-a640-ff51d005e01b",
   "metadata": {},
   "outputs": [],
   "source": [
    "metrics(opt_portfolio)"
   ]
  },
  {
   "cell_type": "code",
   "execution_count": null,
   "id": "d5724f3e-7aa9-46ed-9639-b481eff5e1a1",
   "metadata": {},
   "outputs": [],
   "source": [
    "#Creates a feature displaying how an investment in the sample portfolio would perform over the specified timeframe\n",
    "def investment_growth(df, size, source):\n",
    "    \n",
    "    df = df.reset_index(drop=True)\n",
    "        \n",
    "    dollar_returns = pd.Series(name=f\"{source}_growth\")\n",
    "    \n",
    "    dollar_returns[0] = int(size)\n",
    "        \n",
    "    for i in range(1,len(df)):\n",
    "        dollar_returns[i] = (1+df.loc[i,f\"{source}_returns\"]) * dollar_returns[i-1]\n",
    "        \n",
    "    df = pd.concat([df, dollar_returns], axis=1)\n",
    "\n",
    "    return df"
   ]
  },
  {
   "cell_type": "code",
   "execution_count": null,
   "id": "8cb74f2b-113f-466f-a7cd-e3b4e42cf732",
   "metadata": {},
   "outputs": [],
   "source": [
    "import seaborn as sns\n",
    "import matplotlib.pyplot as plt\n",
    "from matplotlib.ticker import StrMethodFormatter"
   ]
  },
  {
   "cell_type": "code",
   "execution_count": null,
   "id": "cb647ae8-4ed6-495a-9270-68943d9cb428",
   "metadata": {},
   "outputs": [],
   "source": [
    "#Visualization to show how the sample portfolio would perform relative to the market\n",
    "def display_performance(df, obj):\n",
    "    \n",
    "    df = df.reset_index(names=['Date'])\n",
    "    df['Year'] = df['Date'].apply(lambda row_: row_.year)\n",
    "    df = investment_growth(df, 1000000, 'portfolio')\n",
    "    \n",
    "    data = pdr.get_data_yahoo('SPY', start=obj.start_date, end=obj.end_date, interval = '1mo')\n",
    "    prices = data['Adj Close']\n",
    "    market_frame = np.log(prices / prices.shift(1)).dropna()\n",
    "    market_frame = market_frame.reset_index()\n",
    "    market_frame['Year'] = market_frame['Date'].map(lambda row_: row_.year)\n",
    "    market_frame = market_frame.rename(columns={'Adj Close':'market_returns'})\n",
    "    market_frame = investment_growth(market_frame, 1000000, 'market')\n",
    "    \n",
    "    fig, ax = plt.subplots(figsize=(10,7))\n",
    "    \n",
    "    sns.lineplot(df, x=df['Date'], y=df['portfolio_growth'], color='blue', marker='o', errorbar=None)\n",
    "    sns.lineplot(x=market_frame['Date'], y=market_frame['market_growth'], color='grey', marker='o', errorbar=None)\n",
    "    \n",
    "    plt.title('Portfolio Performance versus the Market')\n",
    "    plt.xlabel('Date')\n",
    "    plt.ylabel('Investment Size')\n",
    "    \n",
    "    ax.yaxis.set_major_formatter('${x:,.0f}')\n",
    "    \n",
    "    plt.grid(True)\n",
    "    \n",
    "    plt.legend(['Portfolio', 'Market'], loc='upper right', bbox_to_anchor=(1.2,1))\n",
    "\n",
    "    return None"
   ]
  },
  {
   "cell_type": "code",
   "execution_count": null,
   "id": "a23e6440-1ea8-4f82-b234-a50c0e1572a5",
   "metadata": {},
   "outputs": [],
   "source": [
    "display_performance(opt_portfolio, test_portfolio)"
   ]
  },
  {
   "cell_type": "code",
   "execution_count": null,
   "id": "c1db6532-c2d7-4308-9a92-735bbe9a7a4d",
   "metadata": {},
   "outputs": [],
   "source": [
    "#Visualization to show a distribution of the returns of the sample portfolio\n",
    "def show_returns_distribution(df):\n",
    "    \n",
    "    returns_array = df['portfolio_returns'] * 100\n",
    "    \n",
    "    n_bins = int(np.sqrt(len(df)))\n",
    "    \n",
    "    fig, ax = plt.subplots(figsize=(7,5))\n",
    "    \n",
    "    ax.set_axisbelow(True)\n",
    "    ax.grid(True, linestyle='-')\n",
    "    \n",
    "    ax.hist(returns_array, bins=n_bins)\n",
    "    \n",
    "    ax.set_title('Distribution of Portfolio Returns')\n",
    "    ax.set_xlabel('Returns')\n",
    "    ax.set_ylabel('Count')\n",
    "    \n",
    "    ax.xaxis.set_major_formatter(StrMethodFormatter('{x:,.1f}%'))\n",
    "    ax.yaxis.set_major_formatter(StrMethodFormatter('{x:,.0f}'))\n",
    "    \n",
    "    return None"
   ]
  },
  {
   "cell_type": "code",
   "execution_count": null,
   "id": "aa7a5496-c66e-4645-983c-3ec7ee6915a4",
   "metadata": {},
   "outputs": [],
   "source": [
    "show_returns_distribution(opt_portfolio)"
   ]
  },
  {
   "cell_type": "code",
   "execution_count": null,
   "id": "57b9cbd9-93d9-42b7-8ccc-4b6617c17c83",
   "metadata": {},
   "outputs": [],
   "source": [
    "#Computing the beta of the sample portfolio to the market\n",
    "def get_beta(df, obj):\n",
    "    \n",
    "    df = df.reset_index(drop=True)\n",
    "    \n",
    "    data = pdr.get_data_yahoo('SPY', start=obj.start_date, end=obj.end_date, interval = '1mo')\n",
    "    prices = data['Adj Close']\n",
    "    market_frame = np.log(prices / prices.shift(1)).dropna()\n",
    "    market_frame = market_frame.reset_index()\n",
    "    market_frame['Year'] = market_frame['Date'].map(lambda row_: row_.year)\n",
    "    market_frame = market_frame.rename(columns={'Adj Close':'market_returns'})\n",
    "    \n",
    "    beta_frame = pd.concat([df['portfolio_returns'], market_frame['market_returns']], axis=1)\n",
    "    \n",
    "    beta_coeff = beta_frame['portfolio_returns'].cov(beta_frame['market_returns'])\n",
    "    \n",
    "    market_var = np.var(beta_frame['market_returns'])\n",
    "    \n",
    "    return beta_coeff / market_var"
   ]
  },
  {
   "cell_type": "code",
   "execution_count": null,
   "id": "9c3b202e-b264-4d1e-b07f-dceb50e22269",
   "metadata": {},
   "outputs": [],
   "source": [
    "get_beta(opt_portfolio, test_portfolio)"
   ]
  },
  {
   "cell_type": "code",
   "execution_count": null,
   "id": "5bba95d8-9a73-4d4a-ae93-56faca8ceac1",
   "metadata": {},
   "outputs": [],
   "source": [
    "from statistics import NormalDist"
   ]
  },
  {
   "cell_type": "code",
   "execution_count": null,
   "id": "1fe830c5-41e7-4a5d-a498-741d42100f6a",
   "metadata": {},
   "outputs": [],
   "source": [
    "#Computing the Value at Risk and Conditional Value at Risk of the portfolio\n",
    "def get_var(df, var_type, size, interval):\n",
    "    \n",
    "    er = df['portfolio_returns'].mean()\n",
    "    \n",
    "    stdev = np.std(df['portfolio_returns'])\n",
    "    \n",
    "    var_return = NormalDist(mu=er, sigma=stdev).inv_cdf(interval)\n",
    "    \n",
    "    if var_type == 'VaR':\n",
    "        \n",
    "        var_amount = -(round(var_return * size,2))\n",
    "        \n",
    "        return f\"Value-at-Risk: {var_amount}\"\n",
    "    \n",
    "    if var_type == 'CVaR':\n",
    "        \n",
    "        shortfall_returns = df.loc[df['portfolio_returns'] < var_return, 'portfolio_returns'].mean()\n",
    "        \n",
    "        cvar_amount = -(round(shortfall_returns * size, 2))\n",
    "        \n",
    "        return f\"${cvar_amount}\""
   ]
  },
  {
   "cell_type": "code",
   "execution_count": null,
   "id": "11307782-dd18-4571-85e4-3116f38d2079",
   "metadata": {},
   "outputs": [],
   "source": [
    "get_var(opt_portfolio, 'CVaR', 1000000, 0.025)"
   ]
  }
 ],
 "metadata": {
  "kernelspec": {
   "display_name": "Python 3 (ipykernel)",
   "language": "python",
   "name": "python3"
  },
  "language_info": {
   "codemirror_mode": {
    "name": "ipython",
    "version": 3
   },
   "file_extension": ".py",
   "mimetype": "text/x-python",
   "name": "python",
   "nbconvert_exporter": "python",
   "pygments_lexer": "ipython3",
   "version": "3.12.3"
  }
 },
 "nbformat": 4,
 "nbformat_minor": 5
}
